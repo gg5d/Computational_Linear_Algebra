{
  "cells": [
    {
      "cell_type": "markdown",
      "metadata": {
        "id": "HCLd9L39iXEi"
      },
      "source": [
        "# Linear Systems Notes:\n",
        "\n",
        "A **system of linear equations** or a **linear system** is a collection of linear equations of the form\n"
      ]
    },
    {
      "cell_type": "markdown",
      "source": [
        "\\begin{equation}\n",
        "\t\t\\begin{cases}\n",
        "\t\ta_{11}x_1 +\ta_{12}x_2 +\ta_{13}x_3 +\\cdots \ta_{1n}x_n &= b_1\\\\\n",
        "\t\ta_{21}x_1 +\ta_{22}x_2 +\ta_{23}x_3 +\\cdots \ta_{2n}x_n &= b_2\\\\\n",
        "\t\ta_{31}x_1 +\ta_{32}x_2 +\ta_{33}x_3 +\\cdots \ta_{3n}x_n &= b_3\\\\\n",
        "\t\t\\cdots\\\\\n",
        "\t\ta_{m1}x_1 +\ta_{m2}x_2 +\ta_{m3}x_3 +\\cdots \ta_{mn}x_n &= b_m\\\\\n",
        "\t\t\\end{cases}\n",
        "\t\t\\end{equation}\n",
        "\n"
      ],
      "metadata": {
        "id": "sOF-iA1Alyar"
      }
    },
    {
      "cell_type": "markdown",
      "source": [
        "\n",
        "1. it has $m $ equations, $n$ variables.$m>n$ or $m\\leq n$\n",
        "2. **A solution of the linear system:** n-tuple $(x_1, \\cdots, x_n)$ satisfies all Eqs.\n",
        "3. **Solution sets:** all solutions\n",
        "4. **Equivalent linear systems:**  if the solution sets of  two linear systems are the same, these two linear systems are equivalent. 3 cases."
      ],
      "metadata": {
        "id": "c0Mro6bpl16p"
      }
    },
    {
      "cell_type": "markdown",
      "metadata": {
        "tags": [],
        "id": "z2jzo9axiXEp"
      },
      "source": [
        "Case 1. Interchange the position of two equations.\n",
        "\t\t$$\\begin{cases}\n",
        "\t\t\t\\color{blue}{3x_1 -5x_2 +8x_3 =-4}\\\\\n",
        "\t\t\t\\color{red}{1x_1 +2x_2 -4x_3  =5}\\\\\n",
        "\t\t\t-2x_1 +\t6x_2 +\t1x_3 = 3\\\\\n",
        "\t\t\t\\end{cases}$$\n",
        "\t\t\t$$\\Downarrow$$\n",
        "\t\t\t$$\n",
        "\t\t\t\\begin{cases}\n",
        "\t\t\t\\color{red}{1x_1 +2x_2 -4x_3  =5}\\\\\n",
        "\t\t\t\\color{blue}{3x_1 -5x_2 +8x_3 =-4}\\\\\n",
        "\t\t\t-2x_1 +\t6x_2 +\t1x_3 = 3\\\\\n",
        "\t\t\t\\end{cases}\n",
        "\t\t\t$$\n"
      ]
    },
    {
      "cell_type": "markdown",
      "source": [
        "Case 2. Multiply an equation by a nonzero constant\n",
        "\t\t$$\n",
        "\t\t\t\\begin{cases}\n",
        "\t\t\t\\color{blue}{3x_1 -5x_2 +8x_3 =-4}\\\\\n",
        "\t\t\t1x_1 +2x_2 -4x_3  = 5\\\\\n",
        "\t\t\t-2x_1 +\t6x_2 +\t1x_3 = 3\\\\\n",
        "\t\t\t\\end{cases}$$\n",
        "\t\t\t$$\\Downarrow$$\n",
        "\t\t$$\n",
        "\t\t\t\\begin{cases}\n",
        "\t\t\t\\color{blue}{6x_1 -10x_2 +16x_3 =-8}\\\\\n",
        "\t\t\t1x_1 +2x_2 -4x_3  = 5\\\\\n",
        "\t\t\t-2x_1 +\t6x_2 +\t1x_3 = 3\\\\\n",
        "\t\t\t\\end{cases}\n",
        "\t\t\t$$\n"
      ],
      "metadata": {
        "id": "K8vZlmDEmCiV"
      }
    },
    {
      "cell_type": "markdown",
      "source": [
        "Case 3. Add a multiple of one equation to another\n",
        "$$\n",
        "\t\t\t\\begin{cases}\n",
        "\t\t\t3x_1 -5x_2 +8x_3 = -4\\\\\n",
        "\t\t\t1x_1 +2x_2 -4x_3  =5\\\\\n",
        "\t\t\t\\color{blue}{-2x_1 +\t6x_2 +\t1x_3 = 3}\\\\\n",
        "\t\t\t\\end{cases}$$\n",
        "\t\t\t$$\t\\Downarrow$$\n",
        "\t\t\t$$\n",
        "\t\t\t\\begin{cases}\n",
        "\t\t\t3x_1 &-5x_2 +8x_3 =-4\\\\\n",
        "\t\t\t1x_1 &+2x_2 -4x_3  = 5\\\\\n",
        "\t\t\t& \\color{blue}{10x_2 -7x_3 = 13}\\\\\n",
        "\t\t\t\\end{cases}\n",
        "\t\t\t$$"
      ],
      "metadata": {
        "id": "yW3DOCQSmEMK"
      }
    },
    {
      "cell_type": "markdown",
      "metadata": {
        "id": "ab8pHpheiXEr"
      },
      "source": [
        "## $\\color{blue}{\\text{Write linear systems in the matrix form:} A\\textbf{x}=\\textbf{b}}$\n",
        "\n",
        "Linear systems can be written as :\n",
        "\n",
        "   $$\\begin{bmatrix}\n",
        "a_{11}&\ta_{12} &\\cdots &\ta_{1n} & b_1\\\\\n",
        "\t\ta_{21}&\ta_{22}&\\cdots &\ta_{2n} & b_2\\\\\n",
        "\t\t&&\\cdots&\\\\\n",
        "\t\ta_{m1}&\ta_{m2} &\\cdots &\ta_{mn} & b_m\\\\\n",
        "\\end{bmatrix} \\text{OR}\n",
        "\t\t\\begin{bmatrix}\n",
        "\t\ta_{11}&\ta_{12} &...&\ta_{1n} \\\\\n",
        "\t\ta_{21}&\ta_{22}&... &\ta_{2n} \\\\\n",
        "\t\t&&...&\\\\\n",
        "\t\ta_{m1}&\ta_{m2} &... &\ta_{mn} \\\\\n",
        "\t\t\\end{bmatrix}\t\\left[\\begin{array}{c}\n",
        "\t\tx_1 \\\\\n",
        "\t\tx_2\\\\\n",
        "\t\t...\\\\\n",
        "\t\tx_n \\\\\n",
        "\t\t\\end{array}\\right]= \\left[\\begin{array}{c}\n",
        "\t\tb_1 \\\\\n",
        "\t\tb_2\\\\\n",
        "\t\t...\\\\\n",
        "\t\tb_n \\\\\n",
        "\t\t\\end{array}\\right](A\\textbf{x}=\\textbf{b})\n",
        "\t\t$$"
      ]
    },
    {
      "cell_type": "markdown",
      "source": [
        "       \n",
        "The above left matrix is called an **augmented matrix**. A **Coefficient matrix**=\n",
        "\t\t$\\begin{bmatrix}\n",
        "\t\t\t\ta_{11}&\ta_{12} &...&\ta_{1n} \\\\\n",
        "\t\t\t\ta_{21}&\ta_{22}&... &\ta_{2n} \\\\\n",
        "\t\t\t\t&&...&\\\\\n",
        "\t\t\t\ta_{m1}&\ta_{m2} &... &\ta_{mn} \\\\\n",
        "\t\t\t\\end{bmatrix}$\n",
        "            \n",
        "            "
      ],
      "metadata": {
        "id": "T2thC911jYJu"
      }
    },
    {
      "cell_type": "markdown",
      "metadata": {
        "id": "OIj44tU3iXEs"
      },
      "source": [
        "$\\color{blue} {\\text{Elementary row operations for matrices:}}$\n",
        "\n",
        "- Interchange two rows\n",
        "- Multiply a row by a nonzero constant\n",
        "- item Add a multiple of one row to another row"
      ]
    },
    {
      "cell_type": "markdown",
      "metadata": {
        "id": "0sbuE50kiXEs"
      },
      "source": [
        "$\\color{blue} {\\text{ Equivalent matrices:}}$\n",
        "if one matrix can be obtained  from the  other by applying a sequence of elementary row operations."
      ]
    },
    {
      "cell_type": "markdown",
      "metadata": {
        "id": "6RBLFVt5iXEt"
      },
      "source": [
        "#### **Question: what is the solution for the original linear system?**\n",
        "\n",
        "Every type of elementary row operation to the augmented matrix corresponds to one type of equivalent linear systems:\n",
        "\n",
        "$$\n",
        "\\begin{array}{ccc}\n",
        "& & {\\text{corresponding linear system }} \\\\\n",
        "\\begin{bmatrix}\n",
        "1&-3& 2&-1\\\\\n",
        "2 & -5 & -1& 2\\\\\n",
        "-4 & 13 & -12& 11\\\\\n",
        "\\end{bmatrix} &\n",
        "\\Rightarrow &\n",
        "\\begin{cases}\n",
        "\t\t \t\t\t\t\tx_1 -3x_2 +2x_3 =-1\\\\\n",
        "\t\t \t\t\t\t\t2x_1 -5x_2 -x_3  =2\\\\\n",
        "\t\t \t\t\t\t\t-4x_1 +\t13x_2 -12x_3 =11\\\\\n",
        "\t\t \t\t\t\t\t\\end{cases}\n",
        "\\end{array}$$\n",
        "                            "
      ]
    },
    {
      "cell_type": "markdown",
      "metadata": {
        "id": "TziSiqSFiXEt"
      },
      "source": [
        "\\begin{array}{ccc}\n",
        "\\color{red}{-2R_1+R_2\\rightarrow R_2 } & &\n",
        "{\\text{(-2) $\\times$ Eq.1 is added to Eq.2}\t}\n",
        "\\\\\n",
        "\\begin{bmatrix}\n",
        "1&-3& 2&-1\\\\\n",
        "    \\color{red}{0} & \\color{red}{1} & \\color{red}{-5}& \\color{red}{4}\\\\\n",
        "-4 & 13 & -12& 11\\\\\n",
        "\\end{bmatrix}\n",
        "&\n",
        "\\rightarrow\n",
        "&\n",
        " \\begin{cases}\n",
        "\tx_1 -3x_2 +2x_3 =-1\\\\\n",
        "\t\\color{red}{0}x_1+\t\\color{red}{1}x_2 \t\\color{red}{-5}x_3 =\t\\color{red}{4}\\\\\n",
        "\t-4x_1 +\t13x_2 -12x_3 =11\\\\\n",
        "\t\\end{cases}\n",
        "\\end{array}\n",
        "\n"
      ]
    },
    {
      "cell_type": "markdown",
      "metadata": {
        "id": "i6Qvp30tiXEu"
      },
      "source": [
        "\\begin{array}{ccc}\n",
        "\\color{red}{4R_1+R_3\\rightarrow R_3 } & & {\\text{4 $\\times$ Eq.1 is added to Eq.3}\t}\\\\\n",
        "\\begin{bmatrix}\n",
        "1&-3 & 2 &-1\\\\\n",
        "\t0& 1 & -5& 4\\\\\n",
        "\t\t\\color{red}{0}& \t\\color{red}{1}& \t\\color{red}{-4}& \t\\color{red}{7}\\\\\n",
        "\\end{bmatrix}\n",
        "& \\rightarrow &\n",
        "\\begin{cases}\n",
        "\tx_1 -3x_2 +2x_3 =-1\\\\\n",
        "0x_1+\t1x_2 \t-5x_3 =\t4\\\\\n",
        "\t\t\\color{red}{0}x_1 +\t\\color{red}{1}x_2 \t\\color{red}{-4}x_3 =\t\\color{red}{7}\\\\\n",
        "\t\\end{cases}\n",
        "\\end{array}"
      ]
    },
    {
      "cell_type": "markdown",
      "metadata": {
        "id": "IMfXc_gYiXEv"
      },
      "source": [
        "\\begin{array}{ccc}\n",
        "\\color{red}{-R_2+R_3\\rightarrow R_3 } & & {\\text{(-1) $\\times$ Eq.2 is added to Eq.3}\t} \\\\\n",
        "\\begin{bmatrix}\n",
        "1&-3 & 2 &-1\\\\\n",
        "\t0& 1 & -5& 4\\\\\n",
        "\t\\color{red}{0}& \t\\color{red}{0}& \t\\color{red}{1}& \t\\color{red}{3}\\\\\n",
        "\\end{bmatrix} &\n",
        "\\rightarrow &\n",
        "\\begin{cases}\n",
        "\tx_1 -3x_2 +2x_3 =-1\\\\\n",
        "\t0x_1+\t1x_2 \t-5x_3 =\t4\\\\\n",
        "0x_1 +\t\\color{red}{0}x_2 +\t\\color{red}{1}x_3 =\t\\color{red}{3}\\\\\n",
        "\t\\end{cases}\n",
        "    \\end{array}"
      ]
    },
    {
      "cell_type": "markdown",
      "metadata": {
        "id": "Ev1B9LhxiXEw"
      },
      "source": [
        "**Rewrite:**\n",
        "$$\n",
        "\\begin{array}{ccc}\n",
        "& & {\\text{corresponding linear system}}\\\\\n",
        "\\begin{bmatrix}1&-3 & 2 &-1\\\\\n",
        "\t\t0& 1 & -5& 4\\\\\n",
        "\t0& \t0& 1& \t3\\\\\\end{bmatrix} &\n",
        "    \\Rightarrow &\n",
        "    \\begin{cases}\n",
        "\tx_1 -3x_2 +2x_3 =-1\\\\\n",
        "\tx_2 \t-5x_3 =\t4\\\\\n",
        " x_3 =3\\\\\n",
        "\\end{cases}\n",
        "\\end{array}\n",
        "$$\n",
        "                          "
      ]
    },
    {
      "cell_type": "markdown",
      "source": [
        "Then use \"**Back-Substitution** \" to solve for the solution sets:\n",
        "\n",
        "$$\n",
        "    \\begin{cases}\n",
        "\tx_1 -3x_2 +2x_3 =-1 & \\Rightarrow & x_1 = -3\\color{blue}{x_2} -2\\color{red}{x_3} - 1 = 50\\\\\n",
        "\tx_2 -5x_3 =\t4 & \\Rightarrow & \\color{blue}{x_2}=4+5\\color{red}{x_3}=19 \\\\\n",
        " \\color{red}{x_3} =3 & &\\\\\n",
        " \\end{cases}\n",
        "$$\n",
        "\n",
        "\n",
        "\n",
        "\n",
        "Therefore, the solution is $\\begin{cases}\n",
        "x_1 &=50\\\\\n",
        "x_2& =19\\\\\n",
        "x_3 & =3\\\\\n",
        "\\end{cases}$\n",
        "\n",
        "### Below the example is shown in python"
      ],
      "metadata": {
        "id": "Czjq04ogjet7"
      }
    },
    {
      "cell_type": "code",
      "execution_count": 2,
      "metadata": {
        "tags": [],
        "id": "PgbcuT0niXEw"
      },
      "outputs": [],
      "source": [
        "import numpy as np\n",
        "import numpy.linalg as npl\n",
        "import pandas as pd\n",
        "from IPython.core.interactiveshell import InteractiveShell\n",
        "#!pip install sympy # if you need to install sympy, uncomment this line\n",
        "import sympy as sym"
      ]
    },
    {
      "cell_type": "code",
      "execution_count": 3,
      "metadata": {
        "tags": [],
        "colab": {
          "base_uri": "https://localhost:8080/",
          "height": 79
        },
        "id": "1j8Jhq6eiXE0",
        "outputId": "f8e1be52-16fa-4004-ad1e-2c3ddfa84c93"
      },
      "outputs": [
        {
          "output_type": "execute_result",
          "data": {
            "text/plain": [
              "Matrix([\n",
              "[ 1, -3,   2, -1],\n",
              "[ 2, -5,  -1,  2],\n",
              "[-4, 13, -12, 11]])"
            ],
            "text/latex": "$\\displaystyle \\left[\\begin{matrix}1 & -3 & 2 & -1\\\\2 & -5 & -1 & 2\\\\-4 & 13 & -12 & 11\\end{matrix}\\right]$"
          },
          "metadata": {},
          "execution_count": 3
        }
      ],
      "source": [
        "A = np.vstack([[1,-3,2],[2,-5,-1],[-4,13,-12]])\n",
        "b = np.vstack([-1,2,11])\n",
        "Ab = np.hstack([A,b])\n",
        "Ab = sym.Matrix(Ab)\n",
        "Ab"
      ]
    },
    {
      "cell_type": "code",
      "execution_count": 4,
      "metadata": {
        "colab": {
          "base_uri": "https://localhost:8080/",
          "height": 79
        },
        "id": "8qBGlNvUiXE1",
        "outputId": "2e4295b0-076f-45ef-c3ed-7938e4699461"
      },
      "outputs": [
        {
          "output_type": "execute_result",
          "data": {
            "text/plain": [
              "Matrix([\n",
              "[ 1, -3,   2, -1],\n",
              "[ 0,  1,  -5,  4],\n",
              "[-4, 13, -12, 11]])"
            ],
            "text/latex": "$\\displaystyle \\left[\\begin{matrix}1 & -3 & 2 & -1\\\\0 & 1 & -5 & 4\\\\-4 & 13 & -12 & 11\\end{matrix}\\right]$"
          },
          "metadata": {},
          "execution_count": 4
        }
      ],
      "source": [
        "Ab[1,:] += -2*Ab[0,:] # Addition of two rows. Add -2 * row 1 to row 2.\n",
        "Ab"
      ]
    },
    {
      "cell_type": "code",
      "execution_count": 5,
      "metadata": {
        "colab": {
          "base_uri": "https://localhost:8080/",
          "height": 79
        },
        "id": "yCFn86GjiXE2",
        "outputId": "90023e59-9095-4043-d840-d8bc4020ed59"
      },
      "outputs": [
        {
          "output_type": "execute_result",
          "data": {
            "text/plain": [
              "Matrix([\n",
              "[1, -3,  2, -1],\n",
              "[0,  1, -5,  4],\n",
              "[0,  1, -4,  7]])"
            ],
            "text/latex": "$\\displaystyle \\left[\\begin{matrix}1 & -3 & 2 & -1\\\\0 & 1 & -5 & 4\\\\0 & 1 & -4 & 7\\end{matrix}\\right]$"
          },
          "metadata": {},
          "execution_count": 5
        }
      ],
      "source": [
        "Ab[2,:] += 4*Ab[0,:] # Addition of two rows. Add 4 * row 1 to row 3.\n",
        "Ab"
      ]
    },
    {
      "cell_type": "code",
      "execution_count": 6,
      "metadata": {
        "colab": {
          "base_uri": "https://localhost:8080/",
          "height": 79
        },
        "id": "2C9NK2BliXE2",
        "outputId": "ece835c8-c1e3-48a1-90c2-98566dc9d590"
      },
      "outputs": [
        {
          "output_type": "execute_result",
          "data": {
            "text/plain": [
              "Matrix([\n",
              "[1, -3,  2, -1],\n",
              "[0,  1, -5,  4],\n",
              "[0,  0,  1,  3]])"
            ],
            "text/latex": "$\\displaystyle \\left[\\begin{matrix}1 & -3 & 2 & -1\\\\0 & 1 & -5 & 4\\\\0 & 0 & 1 & 3\\end{matrix}\\right]$"
          },
          "metadata": {},
          "execution_count": 6
        }
      ],
      "source": [
        "Ab[2,:] += -1*Ab[1,:] # Addition of two rows. Add -1 * row 2 to row 3.\n",
        "Ab"
      ]
    },
    {
      "cell_type": "markdown",
      "metadata": {
        "id": "5FDD35DBiXE3"
      },
      "source": [
        "## Solve Linear System by Gaussian Elimination\n",
        "\n",
        "\n",
        "Some concepts about a matrix:\n",
        "- Leading Term:  the leading term of a row is the leftmost nonzero term in that row.\n",
        "- (Row) Echelon Form (REF): the matrix is in echelon form if\n",
        "         - Every leading term is in a column to the left of the leading term of the row below it.\n",
        "         - Any zero rows are at the bottom of the matrix\n",
        "\n",
        "**Note:** the above two conditions imply that in echelon form will have zeros filling out the column below each of the leading terms\n",
        "\n",
        "        \n",
        "**Gaussian Elimination:**\n",
        "                    Write the linear system in augmented matrix form, reduce this matrix into row echelon form by elementary operations, then solve it in $\\color{blue}{\\text{backwards way}}$\n",
        "                    \n",
        "Find the set of solutions for the given linear system\n",
        "\n",
        "$$\\begin{cases}\n",
        "\t\t2x_1 +6x_2 -9x_3 -4x_4=0\\\\\n",
        "\t\t-3x_1 -11x_2 +9x_3-x_4=0\\\\\n",
        "\t\tx_1 +\t4x_2 -2x_3+x_4 =0\\\\\n",
        "\t\t\\end{cases}$$"
      ]
    },
    {
      "cell_type": "code",
      "execution_count": 7,
      "metadata": {
        "colab": {
          "base_uri": "https://localhost:8080/",
          "height": 79
        },
        "id": "NKS4m9gPiXE4",
        "outputId": "5e3cc4bb-8624-45c9-bc8e-a90a504a3d9a"
      },
      "outputs": [
        {
          "output_type": "execute_result",
          "data": {
            "text/plain": [
              "Matrix([\n",
              "[ 2,   6, -9, -4, 0],\n",
              "[-3, -11,  9, -1, 0],\n",
              "[ 1,   4, -2,  1, 0]])"
            ],
            "text/latex": "$\\displaystyle \\left[\\begin{matrix}2 & 6 & -9 & -4 & 0\\\\-3 & -11 & 9 & -1 & 0\\\\1 & 4 & -2 & 1 & 0\\end{matrix}\\right]$"
          },
          "metadata": {},
          "execution_count": 7
        }
      ],
      "source": [
        "A = np.vstack([[2,6,-9, -4],[-3,-11,9, -1],[1,4,-2, 1]])\n",
        "b = np.vstack([0,0,0])\n",
        "Ab = np.hstack([A,b])\n",
        "Ab = sym.Matrix(Ab)\n",
        "Ab"
      ]
    },
    {
      "cell_type": "code",
      "execution_count": 8,
      "metadata": {
        "colab": {
          "base_uri": "https://localhost:8080/",
          "height": 79
        },
        "id": "-xgD6otJiXE5",
        "outputId": "28c8e99e-5536-457b-869d-838c7ad82134"
      },
      "outputs": [
        {
          "output_type": "execute_result",
          "data": {
            "text/plain": [
              "Matrix([\n",
              "[ 1,   4, -2,  1, 0],\n",
              "[-3, -11,  9, -1, 0],\n",
              "[ 2,   6, -9, -4, 0]])"
            ],
            "text/latex": "$\\displaystyle \\left[\\begin{matrix}1 & 4 & -2 & 1 & 0\\\\-3 & -11 & 9 & -1 & 0\\\\2 & 6 & -9 & -4 & 0\\end{matrix}\\right]$"
          },
          "metadata": {},
          "execution_count": 8
        }
      ],
      "source": [
        "row = Ab[2,:]\n",
        "Ab[2,:] = Ab[0,:] # Exchange of two equations. I.e. swap row 1 and 3.\n",
        "Ab[0,:] = row\n",
        "Ab"
      ]
    },
    {
      "cell_type": "code",
      "execution_count": 9,
      "metadata": {
        "colab": {
          "base_uri": "https://localhost:8080/",
          "height": 79
        },
        "id": "vO0oD8PUiXE6",
        "outputId": "d57f321e-b921-4d0d-a7fc-7ef94f15f266"
      },
      "outputs": [
        {
          "output_type": "execute_result",
          "data": {
            "text/plain": [
              "Matrix([\n",
              "[1, 4, -2,  1, 0],\n",
              "[0, 1,  3,  2, 0],\n",
              "[2, 6, -9, -4, 0]])"
            ],
            "text/latex": "$\\displaystyle \\left[\\begin{matrix}1 & 4 & -2 & 1 & 0\\\\0 & 1 & 3 & 2 & 0\\\\2 & 6 & -9 & -4 & 0\\end{matrix}\\right]$"
          },
          "metadata": {},
          "execution_count": 9
        }
      ],
      "source": [
        "Ab[1, :] += 3*Ab[0, :] # Addition of two rows. Add 3 * row 1 to row 2.\n",
        "Ab"
      ]
    },
    {
      "cell_type": "code",
      "execution_count": 10,
      "metadata": {
        "colab": {
          "base_uri": "https://localhost:8080/",
          "height": 79
        },
        "id": "-EcDGM1AiXE6",
        "outputId": "654cd53e-a6d5-40a2-a5de-1ef6a8aa3b5e"
      },
      "outputs": [
        {
          "output_type": "execute_result",
          "data": {
            "text/plain": [
              "Matrix([\n",
              "[1,  4, -2,  1, 0],\n",
              "[0,  1,  3,  2, 0],\n",
              "[0, -2, -5, -6, 0]])"
            ],
            "text/latex": "$\\displaystyle \\left[\\begin{matrix}1 & 4 & -2 & 1 & 0\\\\0 & 1 & 3 & 2 & 0\\\\0 & -2 & -5 & -6 & 0\\end{matrix}\\right]$"
          },
          "metadata": {},
          "execution_count": 10
        }
      ],
      "source": [
        "Ab[2, :] += -2*Ab[0, :] # Addition of two rows. Add -2 * row 1 to row 3.\n",
        "Ab"
      ]
    },
    {
      "cell_type": "code",
      "execution_count": 11,
      "metadata": {
        "colab": {
          "base_uri": "https://localhost:8080/",
          "height": 79
        },
        "id": "9KvJoPMiiXE7",
        "outputId": "8aa22b3d-f22b-4710-e979-2a6a30e6c96e"
      },
      "outputs": [
        {
          "output_type": "execute_result",
          "data": {
            "text/plain": [
              "Matrix([\n",
              "[1, 4, -2,  1, 0],\n",
              "[0, 1,  3,  2, 0],\n",
              "[0, 0,  1, -2, 0]])"
            ],
            "text/latex": "$\\displaystyle \\left[\\begin{matrix}1 & 4 & -2 & 1 & 0\\\\0 & 1 & 3 & 2 & 0\\\\0 & 0 & 1 & -2 & 0\\end{matrix}\\right]$"
          },
          "metadata": {},
          "execution_count": 11
        }
      ],
      "source": [
        "Ab[2, :] += 2*Ab[1, :] # Addition of two rows. Add 2 * row 2 to row 3.\n",
        "Ab"
      ]
    },
    {
      "cell_type": "markdown",
      "metadata": {
        "id": "E0CcvXitiXE8"
      },
      "source": [
        " 4 variables, but just 3 ''useful'' equations, there is **ONE free variable**\n",
        "\n",
        "**BACKWARD WAY**\n",
        "- select a free variable: $x_4=s$.\n",
        "- solve for the solution set: $x_4=s, \\quad x_3=2x_4=2s, \\quad x_2=-2x_4-3x_2=-8s,\n",
        "\t \t\\quad x_1=-x_4+2x_3-4x_2=35s$.\n",
        "        \n",
        "Therefore, $x_1=35s,\n",
        "x_2=-8s,\n",
        "x_3=2s,\n",
        "x_4=s, s\\in \\mathbf{R}$. Infinitely many solutions.  **Different value for $s$ leads to different solution for the system**. Eg. $s=0\\Rightarrow $ trivial solution."
      ]
    },
    {
      "cell_type": "markdown",
      "metadata": {
        "id": "fqMSLwnFiXE9"
      },
      "source": [
        "# Number of solutions for linear systems\n",
        "\n",
        "For any  linear system, there must be a $\\color{blue}{\\text{unique  (the system is independent)}}$ or $\\color{blue}{\\text{infinity many (the system is dependent)}}$  or $\\color{blue}{\\text{no}}$ solution(s). The system is $\\color{blue}{\\text{consistent}}$ if it has solution (unique  or $\\infty$), $\\color{blue}{\\text{inconsistent}}$ if it doesn't have any solution.\n",
        "\n",
        "## No Solution"
      ]
    },
    {
      "cell_type": "code",
      "execution_count": 12,
      "metadata": {
        "colab": {
          "base_uri": "https://localhost:8080/",
          "height": 58
        },
        "id": "2KbheST5iXE9",
        "outputId": "d63b9f84-30fe-40b3-8450-db740747b5e1"
      },
      "outputs": [
        {
          "output_type": "execute_result",
          "data": {
            "text/plain": [
              "Matrix([\n",
              "[ 6, -10, 0],\n",
              "[-3,   5, 8]])"
            ],
            "text/latex": "$\\displaystyle \\left[\\begin{matrix}6 & -10 & 0\\\\-3 & 5 & 8\\end{matrix}\\right]$"
          },
          "metadata": {},
          "execution_count": 12
        }
      ],
      "source": [
        "A = np.vstack([[6,-10],[-3,5]])\n",
        "b = np.vstack([0, 8])\n",
        "Ab = np.hstack([A,b])\n",
        "Ab = sym.Matrix(Ab)\n",
        "Ab"
      ]
    },
    {
      "cell_type": "code",
      "execution_count": 13,
      "metadata": {
        "colab": {
          "base_uri": "https://localhost:8080/",
          "height": 58
        },
        "id": "LC9Ydh5IiXE-",
        "outputId": "b4398084-cf49-421f-c05c-fe180a7c67c4"
      },
      "outputs": [
        {
          "output_type": "execute_result",
          "data": {
            "text/plain": [
              "Matrix([\n",
              "[6, -10, 0],\n",
              "[0,   0, 8]])"
            ],
            "text/latex": "$\\displaystyle \\left[\\begin{matrix}6 & -10 & 0\\\\0 & 0 & 8\\end{matrix}\\right]$"
          },
          "metadata": {},
          "execution_count": 13
        }
      ],
      "source": [
        "Ab[1,:] += .5*Ab[0,:] # Addition of two rows. Add .5 * row 1 to row 2.\n",
        "Ab"
      ]
    },
    {
      "cell_type": "code",
      "execution_count": 14,
      "metadata": {
        "colab": {
          "base_uri": "https://localhost:8080/"
        },
        "id": "wvQXN9P7iXE-",
        "outputId": "a5311669-2f27-4e3f-8d7e-be7aca88eeb0"
      },
      "outputs": [
        {
          "output_type": "execute_result",
          "data": {
            "text/plain": [
              "False"
            ]
          },
          "metadata": {},
          "execution_count": 14
        }
      ],
      "source": [
        "0 == 8"
      ]
    },
    {
      "cell_type": "code",
      "execution_count": 15,
      "metadata": {
        "id": "CNgKiImQiXE_"
      },
      "outputs": [],
      "source": [
        "# no solution"
      ]
    },
    {
      "cell_type": "markdown",
      "metadata": {
        "id": "2AWNnYf_iXE_"
      },
      "source": [
        "### Visual:"
      ]
    },
    {
      "cell_type": "code",
      "execution_count": 16,
      "metadata": {
        "id": "VPIXFZfMiXFA"
      },
      "outputs": [],
      "source": [
        "import numpy as np\n",
        "import numpy.linalg as npl\n",
        "import pandas as pd\n",
        "from IPython.core.interactiveshell import InteractiveShell\n",
        "import matplotlib.pyplot as plt\n",
        "from matplotlib.pyplot import figure\n",
        "vals = np.linspace(-10,10,10000)"
      ]
    },
    {
      "cell_type": "code",
      "execution_count": 17,
      "metadata": {
        "colab": {
          "base_uri": "https://localhost:8080/",
          "height": 448
        },
        "id": "cMIdWypjiXFA",
        "outputId": "ab0bcddc-b086-46b9-f9ef-2ca4b1f068d6"
      },
      "outputs": [
        {
          "output_type": "execute_result",
          "data": {
            "text/plain": [
              "[<matplotlib.lines.Line2D at 0x78f8e75c1210>]"
            ]
          },
          "metadata": {},
          "execution_count": 17
        },
        {
          "output_type": "display_data",
          "data": {
            "text/plain": [
              "<Figure size 640x480 with 1 Axes>"
            ],
            "image/png": "[encoded data removed]"
          },
          "metadata": {}
        }
      ],
      "source": [
        "eq0 = lambda x1: (10*x1)/6\n",
        "y0 = eq0(vals)\n",
        "\n",
        "eq1 = lambda x1: (8-5*x1)/-3\n",
        "y1 = eq1(vals)\n",
        "\n",
        "plt.plot(vals,y0,c=\"blue\")\n",
        "plt.plot(vals,y1,c=\"red\")\n",
        "idx = np.argwhere(np.diff(np.sign(y0 - y1))).flatten() # finds the intersection between two graphs\n",
        "plt.plot(vals[idx],y0[idx],'ko')\n"
      ]
    },
    {
      "cell_type": "markdown",
      "metadata": {
        "id": "5a7X7BJaiXFA"
      },
      "source": [
        "## Infinitely many solutions"
      ]
    },
    {
      "cell_type": "code",
      "execution_count": 18,
      "metadata": {
        "colab": {
          "base_uri": "https://localhost:8080/",
          "height": 58
        },
        "id": "PVcq2HNsiXFB",
        "outputId": "9110248a-d523-4dbc-d046-d000ed198165"
      },
      "outputs": [
        {
          "output_type": "execute_result",
          "data": {
            "text/plain": [
              "Matrix([\n",
              "[ 4,  10,  14],\n",
              "[-6, -15, -21]])"
            ],
            "text/latex": "$\\displaystyle \\left[\\begin{matrix}4 & 10 & 14\\\\-6 & -15 & -21\\end{matrix}\\right]$"
          },
          "metadata": {},
          "execution_count": 18
        }
      ],
      "source": [
        "A = np.vstack([[4,10],[-6,-15]])\n",
        "b = np.vstack([14, -21])\n",
        "Ab = np.hstack([A,b])\n",
        "Ab = sym.Matrix(Ab)\n",
        "Ab"
      ]
    },
    {
      "cell_type": "code",
      "execution_count": 19,
      "metadata": {
        "colab": {
          "base_uri": "https://localhost:8080/",
          "height": 58
        },
        "id": "DpyF0qaHiXFB",
        "outputId": "66e03c74-457c-4aee-ec0e-ecf2e5776a7e"
      },
      "outputs": [
        {
          "output_type": "execute_result",
          "data": {
            "text/plain": [
              "Matrix([\n",
              "[4, 10, 14],\n",
              "[0,  0,  0]])"
            ],
            "text/latex": "$\\displaystyle \\left[\\begin{matrix}4 & 10 & 14\\\\0 & 0 & 0\\end{matrix}\\right]$"
          },
          "metadata": {},
          "execution_count": 19
        }
      ],
      "source": [
        "Ab[1,:] += 1.5*Ab[0,:] # Addition of two rows. Add 1.5 * row 1 to row 2.\n",
        "Ab"
      ]
    },
    {
      "cell_type": "markdown",
      "metadata": {
        "id": "_47zLBxQiXFC"
      },
      "source": [
        "We have a $\\color{blue}{\\text{free variable}}$,\n",
        "\n",
        "**BACKWARD WAY** to select the free variable:\n",
        "\t\t\t$x_2=s$, then solve $x_1=\\frac{7+5s}{2}$, $s\\in \\mathbb{R}.$ $$\\color{blue}{\\text{infinitely many solutions!}}$$\n",
        "            \n",
        "### Visual"
      ]
    },
    {
      "cell_type": "code",
      "execution_count": 20,
      "metadata": {
        "colab": {
          "base_uri": "https://localhost:8080/",
          "height": 448
        },
        "id": "DXLBeSrAiXFC",
        "outputId": "2a81e9f7-4475-41dc-9a40-f6a35d9e061f"
      },
      "outputs": [
        {
          "output_type": "execute_result",
          "data": {
            "text/plain": [
              "[<matplotlib.lines.Line2D at 0x78f8e54d8e80>]"
            ]
          },
          "metadata": {},
          "execution_count": 20
        },
        {
          "output_type": "display_data",
          "data": {
            "text/plain": [
              "<Figure size 640x480 with 1 Axes>"
            ],
            "image/png": "[encoded data removed]"
          },
          "metadata": {}
        }
      ],
      "source": [
        "eq0 = lambda x1: (14-10*x1)/4\n",
        "y0 = eq0(vals)\n",
        "\n",
        "eq1 = lambda x1: (-21+15*x1)/-6\n",
        "y1 = eq1(vals)\n",
        "\n",
        "plt.plot(vals,y0,c=\"blue\", linestyle='-')\n",
        "plt.plot(vals,y1,c=\"red\", linestyle=':')\n",
        "\n"
      ]
    },
    {
      "cell_type": "markdown",
      "metadata": {
        "id": "Tfe3M5x8iXFD"
      },
      "source": [
        "## Unique Solution"
      ]
    },
    {
      "cell_type": "code",
      "execution_count": 21,
      "metadata": {
        "colab": {
          "base_uri": "https://localhost:8080/",
          "height": 79
        },
        "id": "oOeNDiSOiXFD",
        "outputId": "87d2ec92-ebc5-404c-ffd9-1db41b3d167a"
      },
      "outputs": [
        {
          "output_type": "execute_result",
          "data": {
            "text/plain": [
              "Matrix([\n",
              "[ 1, -3,   2, -1],\n",
              "[ 2, -5,  -1,  2],\n",
              "[-4, 13, -12, 11]])"
            ],
            "text/latex": "$\\displaystyle \\left[\\begin{matrix}1 & -3 & 2 & -1\\\\2 & -5 & -1 & 2\\\\-4 & 13 & -12 & 11\\end{matrix}\\right]$"
          },
          "metadata": {},
          "execution_count": 21
        }
      ],
      "source": [
        "A = np.vstack([[1,-3, 2],[2,-5, -1],[-4, 13, -12]])\n",
        "b = np.vstack([-1, 2, 11])\n",
        "Ab = np.hstack([A,b])\n",
        "Ab = sym.Matrix(Ab)\n",
        "Ab"
      ]
    },
    {
      "cell_type": "code",
      "execution_count": 22,
      "metadata": {
        "colab": {
          "base_uri": "https://localhost:8080/",
          "height": 79
        },
        "id": "5Cedk_T_iXFD",
        "outputId": "1a49d6b1-b51e-4ab1-9355-a55ec2d24a92"
      },
      "outputs": [
        {
          "output_type": "execute_result",
          "data": {
            "text/plain": [
              "Matrix([\n",
              "[1, -3,  2, -1],\n",
              "[0,  1, -5,  4],\n",
              "[0,  1, -4,  7]])"
            ],
            "text/latex": "$\\displaystyle \\left[\\begin{matrix}1 & -3 & 2 & -1\\\\0 & 1 & -5 & 4\\\\0 & 1 & -4 & 7\\end{matrix}\\right]$"
          },
          "metadata": {},
          "execution_count": 22
        }
      ],
      "source": [
        "Ab[1,:] += -2*Ab[0,:] # Addition of two rows. Add -2 * row 1 to row 2.\n",
        "Ab[2,:] += 4*Ab[0,:] # Addition of two rows. Add 4 * row 1 to row 2.\n",
        "Ab"
      ]
    },
    {
      "cell_type": "code",
      "execution_count": 23,
      "metadata": {
        "colab": {
          "base_uri": "https://localhost:8080/",
          "height": 79
        },
        "id": "Jyv31juPiXFE",
        "outputId": "d7596dc4-3076-4956-902d-7d4c90fe9f40"
      },
      "outputs": [
        {
          "output_type": "execute_result",
          "data": {
            "text/plain": [
              "Matrix([\n",
              "[1, -3,  2, -1],\n",
              "[0,  1, -5,  4],\n",
              "[0,  0,  1,  3]])"
            ],
            "text/latex": "$\\displaystyle \\left[\\begin{matrix}1 & -3 & 2 & -1\\\\0 & 1 & -5 & 4\\\\0 & 0 & 1 & 3\\end{matrix}\\right]$"
          },
          "metadata": {},
          "execution_count": 23
        }
      ],
      "source": [
        "Ab[2,:] += -1*Ab[1,:] # Addition of two rows. Add -2 * row 1 to row 2.\n",
        "Ab"
      ]
    },
    {
      "cell_type": "markdown",
      "metadata": {
        "id": "_saMzH60iXFd"
      },
      "source": [
        "**BACKWARD WAY** to solve it:\n",
        "\t\t\t$x_3=3$, then solve $x_2=19$, then solve $x_1=50$\n",
        "\t\t\t$$\\color{blue}{\\text{unique solution!}}$$"
      ]
    },
    {
      "cell_type": "markdown",
      "metadata": {
        "id": "-112j--1iXFd"
      },
      "source": [
        "### Visual:"
      ]
    },
    {
      "cell_type": "code",
      "execution_count": 24,
      "metadata": {
        "jupyter": {
          "source_hidden": true
        },
        "colab": {
          "base_uri": "https://localhost:8080/",
          "height": 445
        },
        "id": "v7nR5gC5iXFd",
        "outputId": "620aeda4-7d47-4ecd-f1e5-6017fd570920"
      },
      "outputs": [
        {
          "output_type": "display_data",
          "data": {
            "text/plain": [
              "<Figure size 500x500 with 1 Axes>"
            ],
            "image/png": "[encoded data removed]"
          },
          "metadata": {}
        }
      ],
      "source": [
        "plt.rcParams[\"figure.figsize\"] = (5,5)\n",
        "eq0 = lambda x1: (5-4*x1)/4 # 4x1+4x2 = 5\n",
        "y0 = eq0(vals)\n",
        "\n",
        "eq1 = lambda x1: (1-2*x1)/-4 # 2x1-4x2 = 1\n",
        "y1 = eq1(vals)\n",
        "\n",
        "plt.plot(vals,y0,c=\"blue\")\n",
        "plt.plot(vals,y1,c=\"red\")\n",
        "idx = np.argwhere(np.diff(np.sign(y0 - y1))).flatten() # finds the intersection between two graphs\n",
        "plt.plot(vals[idx],y0[idx],'ko')\n",
        "plt.legend([\"4$x_1$+4$x_2$ = 5\",\"2$x_1$-4$x_2$ = 1\",str(np.round(vals[idx],3)) + str(np.round(y0[idx],3))]);"
      ]
    }
  ],
  "metadata": {
    "kernelspec": {
      "display_name": "Python 3 (ipykernel)",
      "language": "python",
      "name": "python3"
    },
    "language_info": {
      "codemirror_mode": {
        "name": "ipython",
        "version": 3
      },
      "file_extension": ".py",
      "mimetype": "text/x-python",
      "name": "python",
      "nbconvert_exporter": "python",
      "pygments_lexer": "ipython3",
      "version": "3.9.13"
    },
    "colab": {
      "provenance": []
    }
  },
  "nbformat": 4,
  "nbformat_minor": 0
}
